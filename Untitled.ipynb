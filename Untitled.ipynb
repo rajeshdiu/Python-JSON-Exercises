{
 "cells": [
  {
   "cell_type": "markdown",
   "id": "78fa5ee5",
   "metadata": {},
   "source": [
    "# Import dependency"
   ]
  },
  {
   "cell_type": "code",
   "execution_count": 1,
   "id": "ab22b6cc",
   "metadata": {},
   "outputs": [],
   "source": [
    "import json\n",
    "import googletrans\n",
    "from googletrans import Translator"
   ]
  },
  {
   "cell_type": "markdown",
   "id": "90695360",
   "metadata": {},
   "source": [
    "# Load Json File"
   ]
  },
  {
   "cell_type": "code",
   "execution_count": 2,
   "id": "de3f4b08",
   "metadata": {},
   "outputs": [],
   "source": [
    "myjsonFile= open('json.json', 'r')"
   ]
  },
  {
   "cell_type": "code",
   "execution_count": 3,
   "id": "ad9d38c6",
   "metadata": {},
   "outputs": [],
   "source": [
    "data=myjsonFile.read()"
   ]
  },
  {
   "cell_type": "code",
   "execution_count": 4,
   "id": "6653d7a8",
   "metadata": {},
   "outputs": [],
   "source": [
    "obj = json.loads(data)"
   ]
  },
  {
   "cell_type": "markdown",
   "id": "cc4afc9f",
   "metadata": {},
   "source": [
    "# Check Type"
   ]
  },
  {
   "cell_type": "code",
   "execution_count": 5,
   "id": "5cdcc131",
   "metadata": {},
   "outputs": [
    {
     "data": {
      "text/plain": [
       "dict"
      ]
     },
     "execution_count": 5,
     "metadata": {},
     "output_type": "execute_result"
    }
   ],
   "source": [
    "type(obj)"
   ]
  },
  {
   "cell_type": "code",
   "execution_count": 6,
   "id": "8c7d8b9c",
   "metadata": {},
   "outputs": [
    {
     "data": {
      "text/plain": [
       "{'text': 'My country name is Bangladesh. Bangladesh is a very small country huge population. It is a medium-developed country in South Asia. We have a very good and progressing economy. It has an area of 147,570 square kilometers. But it has a population of 164 million. That is huge than the area.',\n",
       " 'languages': ['Bangla', 'Hindi', 'Chinese', 'Japanese']}"
      ]
     },
     "execution_count": 6,
     "metadata": {},
     "output_type": "execute_result"
    }
   ],
   "source": [
    "obj"
   ]
  },
  {
   "cell_type": "markdown",
   "id": "cf38afa1",
   "metadata": {},
   "source": [
    "# Json File Keys"
   ]
  },
  {
   "cell_type": "markdown",
   "id": "0fa27cd8",
   "metadata": {},
   "source": [
    "There are two keys"
   ]
  },
  {
   "cell_type": "code",
   "execution_count": 7,
   "id": "16bb520e",
   "metadata": {},
   "outputs": [
    {
     "data": {
      "text/plain": [
       "dict_keys(['text', 'languages'])"
      ]
     },
     "execution_count": 7,
     "metadata": {},
     "output_type": "execute_result"
    }
   ],
   "source": [
    "obj.keys()"
   ]
  },
  {
   "cell_type": "code",
   "execution_count": 8,
   "id": "74a62d72",
   "metadata": {},
   "outputs": [
    {
     "data": {
      "text/plain": [
       "dict_values(['My country name is Bangladesh. Bangladesh is a very small country huge population. It is a medium-developed country in South Asia. We have a very good and progressing economy. It has an area of 147,570 square kilometers. But it has a population of 164 million. That is huge than the area.', ['Bangla', 'Hindi', 'Chinese', 'Japanese']])"
      ]
     },
     "execution_count": 8,
     "metadata": {},
     "output_type": "execute_result"
    }
   ],
   "source": [
    "obj.values()"
   ]
  },
  {
   "cell_type": "code",
   "execution_count": 9,
   "id": "db507685",
   "metadata": {},
   "outputs": [],
   "source": [
    "# print(str(obj[\"languages\"]))"
   ]
  },
  {
   "cell_type": "markdown",
   "id": "5a5c4c07",
   "metadata": {},
   "source": [
    "# Convert to string"
   ]
  },
  {
   "cell_type": "code",
   "execution_count": 10,
   "id": "00f1b1cd",
   "metadata": {},
   "outputs": [
    {
     "name": "stdout",
     "output_type": "stream",
     "text": [
      "My country name is Bangladesh. Bangladesh is a very small country huge population. It is a medium-developed country in South Asia. We have a very good and progressing economy. It has an area of 147,570 square kilometers. But it has a population of 164 million. That is huge than the area.\n"
     ]
    }
   ],
   "source": [
    "print(str(obj[\"text\"]))"
   ]
  },
  {
   "cell_type": "code",
   "execution_count": 11,
   "id": "5351ae06",
   "metadata": {},
   "outputs": [
    {
     "data": {
      "text/plain": [
       "'Bangla'"
      ]
     },
     "execution_count": 11,
     "metadata": {},
     "output_type": "execute_result"
    }
   ],
   "source": [
    "obj[\"languages\"][0]"
   ]
  },
  {
   "cell_type": "code",
   "execution_count": 12,
   "id": "2fc09c7c",
   "metadata": {},
   "outputs": [
    {
     "data": {
      "text/plain": [
       "['Hindi', 'Chinese', 'Japanese']"
      ]
     },
     "execution_count": 12,
     "metadata": {},
     "output_type": "execute_result"
    }
   ],
   "source": [
    "obj[\"languages\"][1:4]"
   ]
  },
  {
   "cell_type": "code",
   "execution_count": 13,
   "id": "ccb61839",
   "metadata": {},
   "outputs": [],
   "source": [
    "list=obj[\"languages\"]"
   ]
  },
  {
   "cell_type": "code",
   "execution_count": 14,
   "id": "8f9a7031",
   "metadata": {},
   "outputs": [
    {
     "data": {
      "text/plain": [
       "['Bangla', 'Hindi', 'Chinese', 'Japanese']"
      ]
     },
     "execution_count": 14,
     "metadata": {},
     "output_type": "execute_result"
    }
   ],
   "source": [
    "list"
   ]
  },
  {
   "cell_type": "code",
   "execution_count": 15,
   "id": "2cea5b36",
   "metadata": {},
   "outputs": [
    {
     "data": {
      "text/plain": [
       "4"
      ]
     },
     "execution_count": 15,
     "metadata": {},
     "output_type": "execute_result"
    }
   ],
   "source": [
    "len(list)"
   ]
  },
  {
   "cell_type": "code",
   "execution_count": 16,
   "id": "373fa410",
   "metadata": {},
   "outputs": [
    {
     "name": "stdout",
     "output_type": "stream",
     "text": [
      "['bangla', 'hindi', 'chinese', 'japanese']\n"
     ]
    }
   ],
   "source": [
    "s = list\n",
    "for i in range(len(s)):\n",
    "    s[i] = s[i].lower()\n",
    "print(s)"
   ]
  },
  {
   "cell_type": "code",
   "execution_count": 17,
   "id": "18822fe4",
   "metadata": {},
   "outputs": [],
   "source": [
    "translator = Translator()"
   ]
  },
  {
   "cell_type": "code",
   "execution_count": 18,
   "id": "93efb134",
   "metadata": {},
   "outputs": [],
   "source": [
    "all_languages=googletrans.LANGUAGES"
   ]
  },
  {
   "cell_type": "code",
   "execution_count": 19,
   "id": "a34cc398",
   "metadata": {},
   "outputs": [
    {
     "data": {
      "text/plain": [
       "dict"
      ]
     },
     "execution_count": 19,
     "metadata": {},
     "output_type": "execute_result"
    }
   ],
   "source": [
    "type(all_languages)"
   ]
  },
  {
   "cell_type": "code",
   "execution_count": 20,
   "id": "f1431ccc",
   "metadata": {
    "scrolled": true
   },
   "outputs": [
    {
     "name": "stdout",
     "output_type": "stream",
     "text": [
      "{'af': 'afrikaans', 'sq': 'albanian', 'am': 'amharic', 'ar': 'arabic', 'hy': 'armenian', 'az': 'azerbaijani', 'eu': 'basque', 'be': 'belarusian', 'bn': 'bengali', 'bs': 'bosnian', 'bg': 'bulgarian', 'ca': 'catalan', 'ceb': 'cebuano', 'ny': 'chichewa', 'zh-cn': 'chinese (simplified)', 'zh-tw': 'chinese (traditional)', 'co': 'corsican', 'hr': 'croatian', 'cs': 'czech', 'da': 'danish', 'nl': 'dutch', 'en': 'english', 'eo': 'esperanto', 'et': 'estonian', 'tl': 'filipino', 'fi': 'finnish', 'fr': 'french', 'fy': 'frisian', 'gl': 'galician', 'ka': 'georgian', 'de': 'german', 'el': 'greek', 'gu': 'gujarati', 'ht': 'haitian creole', 'ha': 'hausa', 'haw': 'hawaiian', 'iw': 'hebrew', 'he': 'hebrew', 'hi': 'hindi', 'hmn': 'hmong', 'hu': 'hungarian', 'is': 'icelandic', 'ig': 'igbo', 'id': 'indonesian', 'ga': 'irish', 'it': 'italian', 'ja': 'japanese', 'jw': 'javanese', 'kn': 'kannada', 'kk': 'kazakh', 'km': 'khmer', 'ko': 'korean', 'ku': 'kurdish (kurmanji)', 'ky': 'kyrgyz', 'lo': 'lao', 'la': 'latin', 'lv': 'latvian', 'lt': 'lithuanian', 'lb': 'luxembourgish', 'mk': 'macedonian', 'mg': 'malagasy', 'ms': 'malay', 'ml': 'malayalam', 'mt': 'maltese', 'mi': 'maori', 'mr': 'marathi', 'mn': 'mongolian', 'my': 'myanmar (burmese)', 'ne': 'nepali', 'no': 'norwegian', 'or': 'odia', 'ps': 'pashto', 'fa': 'persian', 'pl': 'polish', 'pt': 'portuguese', 'pa': 'punjabi', 'ro': 'romanian', 'ru': 'russian', 'sm': 'samoan', 'gd': 'scots gaelic', 'sr': 'serbian', 'st': 'sesotho', 'sn': 'shona', 'sd': 'sindhi', 'si': 'sinhala', 'sk': 'slovak', 'sl': 'slovenian', 'so': 'somali', 'es': 'spanish', 'su': 'sundanese', 'sw': 'swahili', 'sv': 'swedish', 'tg': 'tajik', 'ta': 'tamil', 'te': 'telugu', 'th': 'thai', 'tr': 'turkish', 'uk': 'ukrainian', 'ur': 'urdu', 'ug': 'uyghur', 'uz': 'uzbek', 'vi': 'vietnamese', 'cy': 'welsh', 'xh': 'xhosa', 'yi': 'yiddish', 'yo': 'yoruba', 'zu': 'zulu'}\n"
     ]
    }
   ],
   "source": [
    "print(all_languages)"
   ]
  },
  {
   "cell_type": "code",
   "execution_count": 21,
   "id": "c8e22c3e",
   "metadata": {},
   "outputs": [
    {
     "name": "stdout",
     "output_type": "stream",
     "text": [
      "dict_keys(['af', 'sq', 'am', 'ar', 'hy', 'az', 'eu', 'be', 'bn', 'bs', 'bg', 'ca', 'ceb', 'ny', 'zh-cn', 'zh-tw', 'co', 'hr', 'cs', 'da', 'nl', 'en', 'eo', 'et', 'tl', 'fi', 'fr', 'fy', 'gl', 'ka', 'de', 'el', 'gu', 'ht', 'ha', 'haw', 'iw', 'he', 'hi', 'hmn', 'hu', 'is', 'ig', 'id', 'ga', 'it', 'ja', 'jw', 'kn', 'kk', 'km', 'ko', 'ku', 'ky', 'lo', 'la', 'lv', 'lt', 'lb', 'mk', 'mg', 'ms', 'ml', 'mt', 'mi', 'mr', 'mn', 'my', 'ne', 'no', 'or', 'ps', 'fa', 'pl', 'pt', 'pa', 'ro', 'ru', 'sm', 'gd', 'sr', 'st', 'sn', 'sd', 'si', 'sk', 'sl', 'so', 'es', 'su', 'sw', 'sv', 'tg', 'ta', 'te', 'th', 'tr', 'uk', 'ur', 'ug', 'uz', 'vi', 'cy', 'xh', 'yi', 'yo', 'zu'])\n"
     ]
    }
   ],
   "source": [
    "lan_key=googletrans.LANGUAGES.keys()\n",
    "print(lan_key)"
   ]
  },
  {
   "cell_type": "code",
   "execution_count": 22,
   "id": "e8a34c96",
   "metadata": {},
   "outputs": [
    {
     "name": "stdout",
     "output_type": "stream",
     "text": [
      "dict_values(['afrikaans', 'albanian', 'amharic', 'arabic', 'armenian', 'azerbaijani', 'basque', 'belarusian', 'bengali', 'bosnian', 'bulgarian', 'catalan', 'cebuano', 'chichewa', 'chinese (simplified)', 'chinese (traditional)', 'corsican', 'croatian', 'czech', 'danish', 'dutch', 'english', 'esperanto', 'estonian', 'filipino', 'finnish', 'french', 'frisian', 'galician', 'georgian', 'german', 'greek', 'gujarati', 'haitian creole', 'hausa', 'hawaiian', 'hebrew', 'hebrew', 'hindi', 'hmong', 'hungarian', 'icelandic', 'igbo', 'indonesian', 'irish', 'italian', 'japanese', 'javanese', 'kannada', 'kazakh', 'khmer', 'korean', 'kurdish (kurmanji)', 'kyrgyz', 'lao', 'latin', 'latvian', 'lithuanian', 'luxembourgish', 'macedonian', 'malagasy', 'malay', 'malayalam', 'maltese', 'maori', 'marathi', 'mongolian', 'myanmar (burmese)', 'nepali', 'norwegian', 'odia', 'pashto', 'persian', 'polish', 'portuguese', 'punjabi', 'romanian', 'russian', 'samoan', 'scots gaelic', 'serbian', 'sesotho', 'shona', 'sindhi', 'sinhala', 'slovak', 'slovenian', 'somali', 'spanish', 'sundanese', 'swahili', 'swedish', 'tajik', 'tamil', 'telugu', 'thai', 'turkish', 'ukrainian', 'urdu', 'uyghur', 'uzbek', 'vietnamese', 'welsh', 'xhosa', 'yiddish', 'yoruba', 'zulu'])\n"
     ]
    }
   ],
   "source": [
    "lan_val=googletrans.LANGUAGES.values()\n",
    "print(lan_val)"
   ]
  },
  {
   "cell_type": "code",
   "execution_count": 23,
   "id": "b12088c5",
   "metadata": {},
   "outputs": [],
   "source": [
    "# for k in googletrans.LANGUAGES.values():\n",
    "#     if obj[\"languages\"] in k:\n",
    "#         mykey=k.keys()\n",
    "#         out=translator.translate(obj[\"text\"],dest=mykey)\n",
    "#         print(out.text)\n",
    "#     else:\n",
    "#         print(k)"
   ]
  },
  {
   "cell_type": "code",
   "execution_count": 24,
   "id": "7cacb8fc",
   "metadata": {},
   "outputs": [
    {
     "name": "stdout",
     "output_type": "stream",
     "text": [
      "Detected(lang=en, confidence=1)\n"
     ]
    }
   ],
   "source": [
    "print(translator.detect(obj[\"text\"]))"
   ]
  },
  {
   "cell_type": "code",
   "execution_count": 25,
   "id": "74de2ba7",
   "metadata": {},
   "outputs": [
    {
     "name": "stdout",
     "output_type": "stream",
     "text": [
      "[['af', 'afrikaans'], ['sq', 'albanian'], ['am', 'amharic'], ['ar', 'arabic'], ['hy', 'armenian'], ['az', 'azerbaijani'], ['eu', 'basque'], ['be', 'belarusian'], ['bn', 'bengali'], ['bs', 'bosnian'], ['bg', 'bulgarian'], ['ca', 'catalan'], ['ceb', 'cebuano'], ['ny', 'chichewa'], ['zh-cn', 'chinese (simplified)'], ['zh-tw', 'chinese (traditional)'], ['co', 'corsican'], ['hr', 'croatian'], ['cs', 'czech'], ['da', 'danish'], ['nl', 'dutch'], ['en', 'english'], ['eo', 'esperanto'], ['et', 'estonian'], ['tl', 'filipino'], ['fi', 'finnish'], ['fr', 'french'], ['fy', 'frisian'], ['gl', 'galician'], ['ka', 'georgian'], ['de', 'german'], ['el', 'greek'], ['gu', 'gujarati'], ['ht', 'haitian creole'], ['ha', 'hausa'], ['haw', 'hawaiian'], ['iw', 'hebrew'], ['he', 'hebrew'], ['hi', 'hindi'], ['hmn', 'hmong'], ['hu', 'hungarian'], ['is', 'icelandic'], ['ig', 'igbo'], ['id', 'indonesian'], ['ga', 'irish'], ['it', 'italian'], ['ja', 'japanese'], ['jw', 'javanese'], ['kn', 'kannada'], ['kk', 'kazakh'], ['km', 'khmer'], ['ko', 'korean'], ['ku', 'kurdish (kurmanji)'], ['ky', 'kyrgyz'], ['lo', 'lao'], ['la', 'latin'], ['lv', 'latvian'], ['lt', 'lithuanian'], ['lb', 'luxembourgish'], ['mk', 'macedonian'], ['mg', 'malagasy'], ['ms', 'malay'], ['ml', 'malayalam'], ['mt', 'maltese'], ['mi', 'maori'], ['mr', 'marathi'], ['mn', 'mongolian'], ['my', 'myanmar (burmese)'], ['ne', 'nepali'], ['no', 'norwegian'], ['or', 'odia'], ['ps', 'pashto'], ['fa', 'persian'], ['pl', 'polish'], ['pt', 'portuguese'], ['pa', 'punjabi'], ['ro', 'romanian'], ['ru', 'russian'], ['sm', 'samoan'], ['gd', 'scots gaelic'], ['sr', 'serbian'], ['st', 'sesotho'], ['sn', 'shona'], ['sd', 'sindhi'], ['si', 'sinhala'], ['sk', 'slovak'], ['sl', 'slovenian'], ['so', 'somali'], ['es', 'spanish'], ['su', 'sundanese'], ['sw', 'swahili'], ['sv', 'swedish'], ['tg', 'tajik'], ['ta', 'tamil'], ['te', 'telugu'], ['th', 'thai'], ['tr', 'turkish'], ['uk', 'ukrainian'], ['ur', 'urdu'], ['ug', 'uyghur'], ['uz', 'uzbek'], ['vi', 'vietnamese'], ['cy', 'welsh'], ['xh', 'xhosa'], ['yi', 'yiddish'], ['yo', 'yoruba'], ['zu', 'zulu']]\n"
     ]
    }
   ],
   "source": [
    "d =all_languages\n",
    " \n",
    "new_list = [] \n",
    "for key, val in d.items(): \n",
    "    new_list.append([key, val]) \n",
    " \n",
    "print(new_list)"
   ]
  },
  {
   "cell_type": "code",
   "execution_count": 26,
   "id": "35696417",
   "metadata": {},
   "outputs": [],
   "source": [
    "convert=[]"
   ]
  },
  {
   "cell_type": "code",
   "execution_count": 27,
   "id": "8170e1a9",
   "metadata": {},
   "outputs": [],
   "source": [
    "bn_out=translator.translate(obj[\"text\"],dest=\"bn\")\n",
    "convert.append((bn_out.text))"
   ]
  },
  {
   "cell_type": "code",
   "execution_count": 28,
   "id": "afe791b3",
   "metadata": {},
   "outputs": [],
   "source": [
    "hin_out=translator.translate(obj[\"text\"],dest=\"hi\")\n",
    "convert.append((hin_out.text))"
   ]
  },
  {
   "cell_type": "code",
   "execution_count": 29,
   "id": "810aa90b",
   "metadata": {},
   "outputs": [],
   "source": [
    "ch_out=translator.translate(obj[\"text\"],dest=\"zh-cn\")\n",
    "convert.append((ch_out.text))"
   ]
  },
  {
   "cell_type": "code",
   "execution_count": 30,
   "id": "af13a6b4",
   "metadata": {},
   "outputs": [],
   "source": [
    "ja_out=translator.translate(obj[\"text\"],dest=\"ja\")\n",
    "convert.append((ja_out.text))"
   ]
  },
  {
   "cell_type": "code",
   "execution_count": 31,
   "id": "f87298ad",
   "metadata": {},
   "outputs": [],
   "source": [
    "# def my_translation(language,text):\n",
    "#     if language in googletrans.LANGUAGES.values():\n",
    "#         out=translator.translate(text,dest=\"bn\")\n",
    "#         print(out.text)"
   ]
  },
  {
   "cell_type": "code",
   "execution_count": 32,
   "id": "d8328429",
   "metadata": {},
   "outputs": [],
   "source": [
    "# my_translation(s[0],obj[\"text\"])"
   ]
  },
  {
   "cell_type": "code",
   "execution_count": 33,
   "id": "f4a1726b",
   "metadata": {},
   "outputs": [],
   "source": [
    "res = {}\n",
    "for key in s:\n",
    "    for value in convert:\n",
    "        res[key] = value\n",
    "        convert.remove(value)\n",
    "        break"
   ]
  },
  {
   "cell_type": "code",
   "execution_count": 35,
   "id": "b255bd1e",
   "metadata": {},
   "outputs": [
    {
     "data": {
      "text/plain": [
       "{'bangla': 'আমার দেশের নাম বাংলাদেশ। বাংলাদেশ খুবই ছোট একটি বিশাল জনসংখ্যার দেশ। এটি দক্ষিণ এশিয়ার একটি মাঝারি-উন্নত দেশ। আমরা একটি খুব ভাল এবং অগ্রগতি অর্থনীতি আছে. এর আয়তন 147,570 বর্গ কিলোমিটার। কিন্তু এর জনসংখ্যা ১৬৪ মিলিয়ন। যা এলাকা থেকে বিশাল।',\n",
       " 'hindi': 'मेरे देश का नाम बांग्लादेश है। बांग्लादेश एक बहुत छोटा देश है विशाल जनसंख्या। यह दक्षिण एशिया में एक मध्यम विकसित देश है। हमारे पास बहुत अच्छी और प्रगतिशील अर्थव्यवस्था है। इसका क्षेत्रफल 147,570 वर्ग किलोमीटर है। लेकिन इसकी आबादी 164 मिलियन है। यह क्षेत्र से बहुत बड़ा है।',\n",
       " 'chinese': '我的国名是孟加拉国。孟加拉国是一个非常小的国家，人口众多。它是南亚的中等发达国家。我们有一个非常好的和不断发展的经济。面积147570平方公里。但它有1.64亿人口。这比面积还大。',\n",
       " 'japanese': '私の国の名前はバングラデシュです。バングラデシュは非常に小さな国であり、人口が非常に多い国です。南アジアの中開発国です。私たちは非常に良好で進歩している経済を持っています。それは147,570平方キロメートルの面積を持っています。しかし、人口は1億6400万人です。それは面積よりも巨大です。'}"
      ]
     },
     "execution_count": 35,
     "metadata": {},
     "output_type": "execute_result"
    }
   ],
   "source": [
    "res"
   ]
  },
  {
   "cell_type": "code",
   "execution_count": 39,
   "id": "dbb19eb1",
   "metadata": {},
   "outputs": [
    {
     "data": {
      "text/plain": [
       "'আমার দেশের নাম বাংলাদেশ। বাংলাদেশ খুবই ছোট একটি বিশাল জনসংখ্যার দেশ। এটি দক্ষিণ এশিয়ার একটি মাঝারি-উন্নত দেশ। আমরা একটি খুব ভাল এবং অগ্রগতি অর্থনীতি আছে. এর আয়তন 147,570 বর্গ কিলোমিটার। কিন্তু এর জনসংখ্যা ১৬৪ মিলিয়ন। যা এলাকা থেকে বিশাল।'"
      ]
     },
     "execution_count": 39,
     "metadata": {},
     "output_type": "execute_result"
    }
   ],
   "source": [
    "res[\"bangla\"]"
   ]
  },
  {
   "cell_type": "code",
   "execution_count": 41,
   "id": "ee3ff502",
   "metadata": {},
   "outputs": [
    {
     "data": {
      "text/plain": [
       "'我的国名是孟加拉国。孟加拉国是一个非常小的国家，人口众多。它是南亚的中等发达国家。我们有一个非常好的和不断发展的经济。面积147570平方公里。但它有1.64亿人口。这比面积还大。'"
      ]
     },
     "execution_count": 41,
     "metadata": {},
     "output_type": "execute_result"
    }
   ],
   "source": [
    "res[\"chinese\"]"
   ]
  },
  {
   "cell_type": "code",
   "execution_count": 43,
   "id": "8135846e",
   "metadata": {},
   "outputs": [
    {
     "data": {
      "text/plain": [
       "'私の国の名前はバングラデシュです。バングラデシュは非常に小さな国であり、人口が非常に多い国です。南アジアの中開発国です。私たちは非常に良好で進歩している経済を持っています。それは147,570平方キロメートルの面積を持っています。しかし、人口は1億6400万人です。それは面積よりも巨大です。'"
      ]
     },
     "execution_count": 43,
     "metadata": {},
     "output_type": "execute_result"
    }
   ],
   "source": [
    "res[\"japanese\"]"
   ]
  },
  {
   "cell_type": "code",
   "execution_count": 40,
   "id": "880921f8",
   "metadata": {},
   "outputs": [
    {
     "data": {
      "text/plain": [
       "'मेरे देश का नाम बांग्लादेश है। बांग्लादेश एक बहुत छोटा देश है विशाल जनसंख्या। यह दक्षिण एशिया में एक मध्यम विकसित देश है। हमारे पास बहुत अच्छी और प्रगतिशील अर्थव्यवस्था है। इसका क्षेत्रफल 147,570 वर्ग किलोमीटर है। लेकिन इसकी आबादी 164 मिलियन है। यह क्षेत्र से बहुत बड़ा है।'"
      ]
     },
     "execution_count": 40,
     "metadata": {},
     "output_type": "execute_result"
    }
   ],
   "source": [
    "res[\"hindi\"]"
   ]
  },
  {
   "cell_type": "code",
   "execution_count": 44,
   "id": "e4bfa0a1",
   "metadata": {},
   "outputs": [
    {
     "name": "stdout",
     "output_type": "stream",
     "text": [
      "আমার দেশের নাম বাংলাদেশ। বাংলাদেশ খুবই ছোট একটি বিশাল জনসংখ্যার দেশ। এটি দক্ষিণ এশিয়ার একটি মাঝারি-উন্নত দেশ। আমরা একটি খুব ভাল এবং অগ্রগতি অর্থনীতি আছে. এর আয়তন 147,570 বর্গ কিলোমিটার। কিন্তু এর জনসংখ্যা ১৬৪ মিলিয়ন। যা এলাকা থেকে বিশাল।\n",
      "मेरे देश का नाम बांग्लादेश है। बांग्लादेश एक बहुत छोटा देश है विशाल जनसंख्या। यह दक्षिण एशिया में एक मध्यम विकसित देश है। हमारे पास बहुत अच्छी और प्रगतिशील अर्थव्यवस्था है। इसका क्षेत्रफल 147,570 वर्ग किलोमीटर है। लेकिन इसकी आबादी 164 मिलियन है। यह क्षेत्र से बहुत बड़ा है।\n",
      "我的国名是孟加拉国。孟加拉国是一个非常小的国家，人口众多。它是南亚的中等发达国家。我们有一个非常好的和不断发展的经济。面积147570平方公里。但它有1.64亿人口。这比面积还大。\n",
      "私の国の名前はバングラデシュです。バングラデシュは非常に小さな国であり、人口が非常に多い国です。南アジアの中開発国です。私たちは非常に良好で進歩している経済を持っています。それは147,570平方キロメートルの面積を持っています。しかし、人口は1億6400万人です。それは面積よりも巨大です。\n"
     ]
    }
   ],
   "source": [
    "for x in res:\n",
    "  print(res[x])"
   ]
  },
  {
   "cell_type": "code",
   "execution_count": 46,
   "id": "beedfc85",
   "metadata": {},
   "outputs": [
    {
     "name": "stdout",
     "output_type": "stream",
     "text": [
      "bangla\n",
      "hindi\n",
      "chinese\n",
      "japanese\n"
     ]
    }
   ],
   "source": [
    "for x in res.keys():\n",
    "  print(x)"
   ]
  },
  {
   "cell_type": "code",
   "execution_count": 51,
   "id": "53accf26",
   "metadata": {},
   "outputs": [
    {
     "name": "stdout",
     "output_type": "stream",
     "text": [
      "bangla\n",
      "আমার দেশের নাম বাংলাদেশ। বাংলাদেশ খুবই ছোট একটি বিশাল জনসংখ্যার দেশ। এটি দক্ষিণ এশিয়ার একটি মাঝারি-উন্নত দেশ। আমরা একটি খুব ভাল এবং অগ্রগতি অর্থনীতি আছে. এর আয়তন 147,570 বর্গ কিলোমিটার। কিন্তু এর জনসংখ্যা ১৬৪ মিলিয়ন। যা এলাকা থেকে বিশাল।\n",
      "hindi\n",
      "मेरे देश का नाम बांग्लादेश है। बांग्लादेश एक बहुत छोटा देश है विशाल जनसंख्या। यह दक्षिण एशिया में एक मध्यम विकसित देश है। हमारे पास बहुत अच्छी और प्रगतिशील अर्थव्यवस्था है। इसका क्षेत्रफल 147,570 वर्ग किलोमीटर है। लेकिन इसकी आबादी 164 मिलियन है। यह क्षेत्र से बहुत बड़ा है।\n",
      "chinese\n",
      "我的国名是孟加拉国。孟加拉国是一个非常小的国家，人口众多。它是南亚的中等发达国家。我们有一个非常好的和不断发展的经济。面积147570平方公里。但它有1.64亿人口。这比面积还大。\n",
      "japanese\n",
      "私の国の名前はバングラデシュです。バングラデシュは非常に小さな国であり、人口が非常に多い国です。南アジアの中開発国です。私たちは非常に良好で進歩している経済を持っています。それは147,570平方キロメートルの面積を持っています。しかし、人口は1億6400万人です。それは面積よりも巨大です。\n"
     ]
    }
   ],
   "source": [
    "for x, y in res.items():\n",
    "  print(x)\n",
    "  print(y)"
   ]
  }
 ],
 "metadata": {
  "kernelspec": {
   "display_name": "Python 3 (ipykernel)",
   "language": "python",
   "name": "python3"
  },
  "language_info": {
   "codemirror_mode": {
    "name": "ipython",
    "version": 3
   },
   "file_extension": ".py",
   "mimetype": "text/x-python",
   "name": "python",
   "nbconvert_exporter": "python",
   "pygments_lexer": "ipython3",
   "version": "3.9.12"
  }
 },
 "nbformat": 4,
 "nbformat_minor": 5
}
