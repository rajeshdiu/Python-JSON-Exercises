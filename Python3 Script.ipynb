{
 "cells": [
  {
   "cell_type": "markdown",
   "id": "646bac17",
   "metadata": {},
   "source": [
    "# Import dependency"
   ]
  },
  {
   "cell_type": "code",
   "execution_count": 1,
   "id": "ab22b6cc",
   "metadata": {},
   "outputs": [],
   "source": [
    "import json\n",
    "import googletrans\n",
    "from googletrans import Translator\n",
    "import fpdf\n",
    "from fpdf import FPDF"
   ]
  },
  {
   "cell_type": "markdown",
   "id": "455e3a47",
   "metadata": {},
   "source": [
    "# Load Json File"
   ]
  },
  {
   "cell_type": "code",
   "execution_count": 2,
   "id": "de3f4b08",
   "metadata": {},
   "outputs": [],
   "source": [
    "myjsonFile= open('json.json', 'r')"
   ]
  },
  {
   "cell_type": "code",
   "execution_count": 3,
   "id": "ad9d38c6",
   "metadata": {},
   "outputs": [],
   "source": [
    "data=myjsonFile.read()"
   ]
  },
  {
   "cell_type": "code",
   "execution_count": 4,
   "id": "6653d7a8",
   "metadata": {},
   "outputs": [],
   "source": [
    "obj = json.loads(data)"
   ]
  },
  {
   "cell_type": "markdown",
   "id": "a6e0dc0d",
   "metadata": {},
   "source": [
    "# Check Type"
   ]
  },
  {
   "cell_type": "code",
   "execution_count": 5,
   "id": "5cdcc131",
   "metadata": {},
   "outputs": [
    {
     "data": {
      "text/plain": [
       "dict"
      ]
     },
     "execution_count": 5,
     "metadata": {},
     "output_type": "execute_result"
    }
   ],
   "source": [
    "type(obj)"
   ]
  },
  {
   "cell_type": "code",
   "execution_count": 6,
   "id": "8c7d8b9c",
   "metadata": {},
   "outputs": [
    {
     "data": {
      "text/plain": [
       "{'text': 'My country name is Bangladesh. Bangladesh is a very small country huge population. It is a medium-developed country in South Asia. We have a very good and progressing economy. It has an area of 147,570 square kilometers. But it has a population of 164 million. That is huge than the area.',\n",
       " 'languages': ['Bangla', 'Hindi', 'Chinese', 'Japanese']}"
      ]
     },
     "execution_count": 6,
     "metadata": {},
     "output_type": "execute_result"
    }
   ],
   "source": [
    "obj"
   ]
  },
  {
   "cell_type": "markdown",
   "id": "c9693ef7",
   "metadata": {},
   "source": [
    "# Json File Keys"
   ]
  },
  {
   "cell_type": "markdown",
   "id": "21e9a918",
   "metadata": {},
   "source": [
    "There are two keys"
   ]
  },
  {
   "cell_type": "code",
   "execution_count": 7,
   "id": "16bb520e",
   "metadata": {},
   "outputs": [
    {
     "data": {
      "text/plain": [
       "dict_keys(['text', 'languages'])"
      ]
     },
     "execution_count": 7,
     "metadata": {},
     "output_type": "execute_result"
    }
   ],
   "source": [
    "obj.keys()"
   ]
  },
  {
   "cell_type": "code",
   "execution_count": 8,
   "id": "74a62d72",
   "metadata": {},
   "outputs": [
    {
     "data": {
      "text/plain": [
       "dict_values(['My country name is Bangladesh. Bangladesh is a very small country huge population. It is a medium-developed country in South Asia. We have a very good and progressing economy. It has an area of 147,570 square kilometers. But it has a population of 164 million. That is huge than the area.', ['Bangla', 'Hindi', 'Chinese', 'Japanese']])"
      ]
     },
     "execution_count": 8,
     "metadata": {},
     "output_type": "execute_result"
    }
   ],
   "source": [
    "obj.values()"
   ]
  },
  {
   "cell_type": "code",
   "execution_count": 9,
   "id": "db507685",
   "metadata": {},
   "outputs": [],
   "source": [
    "# print(str(obj[\"languages\"]))"
   ]
  },
  {
   "cell_type": "markdown",
   "id": "0f3aeaeb",
   "metadata": {},
   "source": [
    "# Convert to string"
   ]
  },
  {
   "cell_type": "code",
   "execution_count": 10,
   "id": "00f1b1cd",
   "metadata": {},
   "outputs": [
    {
     "name": "stdout",
     "output_type": "stream",
     "text": [
      "My country name is Bangladesh. Bangladesh is a very small country huge population. It is a medium-developed country in South Asia. We have a very good and progressing economy. It has an area of 147,570 square kilometers. But it has a population of 164 million. That is huge than the area.\n"
     ]
    }
   ],
   "source": [
    "print(str(obj[\"text\"]))"
   ]
  },
  {
   "cell_type": "code",
   "execution_count": 11,
   "id": "5351ae06",
   "metadata": {},
   "outputs": [
    {
     "data": {
      "text/plain": [
       "'Bangla'"
      ]
     },
     "execution_count": 11,
     "metadata": {},
     "output_type": "execute_result"
    }
   ],
   "source": [
    "obj[\"languages\"][0]"
   ]
  },
  {
   "cell_type": "code",
   "execution_count": 12,
   "id": "2fc09c7c",
   "metadata": {},
   "outputs": [
    {
     "data": {
      "text/plain": [
       "['Hindi', 'Chinese', 'Japanese']"
      ]
     },
     "execution_count": 12,
     "metadata": {},
     "output_type": "execute_result"
    }
   ],
   "source": [
    "obj[\"languages\"][1:4]"
   ]
  },
  {
   "cell_type": "code",
   "execution_count": 13,
   "id": "ccb61839",
   "metadata": {},
   "outputs": [],
   "source": [
    "list=obj[\"languages\"]"
   ]
  },
  {
   "cell_type": "code",
   "execution_count": 14,
   "id": "8f9a7031",
   "metadata": {},
   "outputs": [
    {
     "data": {
      "text/plain": [
       "['Bangla', 'Hindi', 'Chinese', 'Japanese']"
      ]
     },
     "execution_count": 14,
     "metadata": {},
     "output_type": "execute_result"
    }
   ],
   "source": [
    "list"
   ]
  },
  {
   "cell_type": "code",
   "execution_count": 15,
   "id": "2cea5b36",
   "metadata": {},
   "outputs": [
    {
     "data": {
      "text/plain": [
       "4"
      ]
     },
     "execution_count": 15,
     "metadata": {},
     "output_type": "execute_result"
    }
   ],
   "source": [
    "len(list)"
   ]
  },
  {
   "cell_type": "code",
   "execution_count": 16,
   "id": "373fa410",
   "metadata": {},
   "outputs": [
    {
     "name": "stdout",
     "output_type": "stream",
     "text": [
      "['bangla', 'hindi', 'chinese', 'japanese']\n"
     ]
    }
   ],
   "source": [
    "s = list\n",
    "for i in range(len(s)):\n",
    "    s[i] = s[i].lower()\n",
    "print(s)"
   ]
  },
  {
   "cell_type": "code",
   "execution_count": 17,
   "id": "18822fe4",
   "metadata": {},
   "outputs": [],
   "source": [
    "translator = Translator()"
   ]
  },
  {
   "cell_type": "code",
   "execution_count": 18,
   "id": "a809ab55",
   "metadata": {},
   "outputs": [],
   "source": [
    "all_languages=googletrans.LANGUAGES"
   ]
  },
  {
   "cell_type": "code",
   "execution_count": 19,
   "id": "07724060",
   "metadata": {},
   "outputs": [
    {
     "data": {
      "text/plain": [
       "dict"
      ]
     },
     "execution_count": 19,
     "metadata": {},
     "output_type": "execute_result"
    }
   ],
   "source": [
    "type(all_languages)"
   ]
  },
  {
   "cell_type": "code",
   "execution_count": 20,
   "id": "f1431ccc",
   "metadata": {
    "scrolled": true
   },
   "outputs": [
    {
     "name": "stdout",
     "output_type": "stream",
     "text": [
      "{'af': 'afrikaans', 'sq': 'albanian', 'am': 'amharic', 'ar': 'arabic', 'hy': 'armenian', 'az': 'azerbaijani', 'eu': 'basque', 'be': 'belarusian', 'bn': 'bengali', 'bs': 'bosnian', 'bg': 'bulgarian', 'ca': 'catalan', 'ceb': 'cebuano', 'ny': 'chichewa', 'zh-cn': 'chinese (simplified)', 'zh-tw': 'chinese (traditional)', 'co': 'corsican', 'hr': 'croatian', 'cs': 'czech', 'da': 'danish', 'nl': 'dutch', 'en': 'english', 'eo': 'esperanto', 'et': 'estonian', 'tl': 'filipino', 'fi': 'finnish', 'fr': 'french', 'fy': 'frisian', 'gl': 'galician', 'ka': 'georgian', 'de': 'german', 'el': 'greek', 'gu': 'gujarati', 'ht': 'haitian creole', 'ha': 'hausa', 'haw': 'hawaiian', 'iw': 'hebrew', 'he': 'hebrew', 'hi': 'hindi', 'hmn': 'hmong', 'hu': 'hungarian', 'is': 'icelandic', 'ig': 'igbo', 'id': 'indonesian', 'ga': 'irish', 'it': 'italian', 'ja': 'japanese', 'jw': 'javanese', 'kn': 'kannada', 'kk': 'kazakh', 'km': 'khmer', 'ko': 'korean', 'ku': 'kurdish (kurmanji)', 'ky': 'kyrgyz', 'lo': 'lao', 'la': 'latin', 'lv': 'latvian', 'lt': 'lithuanian', 'lb': 'luxembourgish', 'mk': 'macedonian', 'mg': 'malagasy', 'ms': 'malay', 'ml': 'malayalam', 'mt': 'maltese', 'mi': 'maori', 'mr': 'marathi', 'mn': 'mongolian', 'my': 'myanmar (burmese)', 'ne': 'nepali', 'no': 'norwegian', 'or': 'odia', 'ps': 'pashto', 'fa': 'persian', 'pl': 'polish', 'pt': 'portuguese', 'pa': 'punjabi', 'ro': 'romanian', 'ru': 'russian', 'sm': 'samoan', 'gd': 'scots gaelic', 'sr': 'serbian', 'st': 'sesotho', 'sn': 'shona', 'sd': 'sindhi', 'si': 'sinhala', 'sk': 'slovak', 'sl': 'slovenian', 'so': 'somali', 'es': 'spanish', 'su': 'sundanese', 'sw': 'swahili', 'sv': 'swedish', 'tg': 'tajik', 'ta': 'tamil', 'te': 'telugu', 'th': 'thai', 'tr': 'turkish', 'uk': 'ukrainian', 'ur': 'urdu', 'ug': 'uyghur', 'uz': 'uzbek', 'vi': 'vietnamese', 'cy': 'welsh', 'xh': 'xhosa', 'yi': 'yiddish', 'yo': 'yoruba', 'zu': 'zulu'}\n"
     ]
    }
   ],
   "source": [
    "print(all_languages)"
   ]
  },
  {
   "cell_type": "code",
   "execution_count": 21,
   "id": "c8e22c3e",
   "metadata": {},
   "outputs": [
    {
     "name": "stdout",
     "output_type": "stream",
     "text": [
      "dict_keys(['af', 'sq', 'am', 'ar', 'hy', 'az', 'eu', 'be', 'bn', 'bs', 'bg', 'ca', 'ceb', 'ny', 'zh-cn', 'zh-tw', 'co', 'hr', 'cs', 'da', 'nl', 'en', 'eo', 'et', 'tl', 'fi', 'fr', 'fy', 'gl', 'ka', 'de', 'el', 'gu', 'ht', 'ha', 'haw', 'iw', 'he', 'hi', 'hmn', 'hu', 'is', 'ig', 'id', 'ga', 'it', 'ja', 'jw', 'kn', 'kk', 'km', 'ko', 'ku', 'ky', 'lo', 'la', 'lv', 'lt', 'lb', 'mk', 'mg', 'ms', 'ml', 'mt', 'mi', 'mr', 'mn', 'my', 'ne', 'no', 'or', 'ps', 'fa', 'pl', 'pt', 'pa', 'ro', 'ru', 'sm', 'gd', 'sr', 'st', 'sn', 'sd', 'si', 'sk', 'sl', 'so', 'es', 'su', 'sw', 'sv', 'tg', 'ta', 'te', 'th', 'tr', 'uk', 'ur', 'ug', 'uz', 'vi', 'cy', 'xh', 'yi', 'yo', 'zu'])\n"
     ]
    }
   ],
   "source": [
    "lan_key=googletrans.LANGUAGES.keys()\n",
    "print(lan_key)"
   ]
  },
  {
   "cell_type": "code",
   "execution_count": 22,
   "id": "e8a34c96",
   "metadata": {},
   "outputs": [
    {
     "name": "stdout",
     "output_type": "stream",
     "text": [
      "dict_values(['afrikaans', 'albanian', 'amharic', 'arabic', 'armenian', 'azerbaijani', 'basque', 'belarusian', 'bengali', 'bosnian', 'bulgarian', 'catalan', 'cebuano', 'chichewa', 'chinese (simplified)', 'chinese (traditional)', 'corsican', 'croatian', 'czech', 'danish', 'dutch', 'english', 'esperanto', 'estonian', 'filipino', 'finnish', 'french', 'frisian', 'galician', 'georgian', 'german', 'greek', 'gujarati', 'haitian creole', 'hausa', 'hawaiian', 'hebrew', 'hebrew', 'hindi', 'hmong', 'hungarian', 'icelandic', 'igbo', 'indonesian', 'irish', 'italian', 'japanese', 'javanese', 'kannada', 'kazakh', 'khmer', 'korean', 'kurdish (kurmanji)', 'kyrgyz', 'lao', 'latin', 'latvian', 'lithuanian', 'luxembourgish', 'macedonian', 'malagasy', 'malay', 'malayalam', 'maltese', 'maori', 'marathi', 'mongolian', 'myanmar (burmese)', 'nepali', 'norwegian', 'odia', 'pashto', 'persian', 'polish', 'portuguese', 'punjabi', 'romanian', 'russian', 'samoan', 'scots gaelic', 'serbian', 'sesotho', 'shona', 'sindhi', 'sinhala', 'slovak', 'slovenian', 'somali', 'spanish', 'sundanese', 'swahili', 'swedish', 'tajik', 'tamil', 'telugu', 'thai', 'turkish', 'ukrainian', 'urdu', 'uyghur', 'uzbek', 'vietnamese', 'welsh', 'xhosa', 'yiddish', 'yoruba', 'zulu'])\n"
     ]
    }
   ],
   "source": [
    "lan_val=googletrans.LANGUAGES.values()\n",
    "print(lan_val)"
   ]
  },
  {
   "cell_type": "code",
   "execution_count": 28,
   "id": "b12088c5",
   "metadata": {},
   "outputs": [],
   "source": [
    "# for k in googletrans.LANGUAGES.values():\n",
    "#     if obj[\"languages\"] in k:\n",
    "#         mykey=k.keys()\n",
    "#         out=translator.translate(obj[\"text\"],dest=mykey)\n",
    "#         print(out.text)\n",
    "#     else:\n",
    "#         print(k)"
   ]
  },
  {
   "cell_type": "code",
   "execution_count": 29,
   "id": "7cacb8fc",
   "metadata": {},
   "outputs": [
    {
     "name": "stdout",
     "output_type": "stream",
     "text": [
      "Detected(lang=en, confidence=1)\n"
     ]
    }
   ],
   "source": [
    "print(translator.detect(obj[\"text\"]))"
   ]
  },
  {
   "cell_type": "code",
   "execution_count": 30,
   "id": "daaa666d",
   "metadata": {},
   "outputs": [
    {
     "name": "stdout",
     "output_type": "stream",
     "text": [
      "[['af', 'afrikaans'], ['sq', 'albanian'], ['am', 'amharic'], ['ar', 'arabic'], ['hy', 'armenian'], ['az', 'azerbaijani'], ['eu', 'basque'], ['be', 'belarusian'], ['bn', 'bengali'], ['bs', 'bosnian'], ['bg', 'bulgarian'], ['ca', 'catalan'], ['ceb', 'cebuano'], ['ny', 'chichewa'], ['zh-cn', 'chinese (simplified)'], ['zh-tw', 'chinese (traditional)'], ['co', 'corsican'], ['hr', 'croatian'], ['cs', 'czech'], ['da', 'danish'], ['nl', 'dutch'], ['en', 'english'], ['eo', 'esperanto'], ['et', 'estonian'], ['tl', 'filipino'], ['fi', 'finnish'], ['fr', 'french'], ['fy', 'frisian'], ['gl', 'galician'], ['ka', 'georgian'], ['de', 'german'], ['el', 'greek'], ['gu', 'gujarati'], ['ht', 'haitian creole'], ['ha', 'hausa'], ['haw', 'hawaiian'], ['iw', 'hebrew'], ['he', 'hebrew'], ['hi', 'hindi'], ['hmn', 'hmong'], ['hu', 'hungarian'], ['is', 'icelandic'], ['ig', 'igbo'], ['id', 'indonesian'], ['ga', 'irish'], ['it', 'italian'], ['ja', 'japanese'], ['jw', 'javanese'], ['kn', 'kannada'], ['kk', 'kazakh'], ['km', 'khmer'], ['ko', 'korean'], ['ku', 'kurdish (kurmanji)'], ['ky', 'kyrgyz'], ['lo', 'lao'], ['la', 'latin'], ['lv', 'latvian'], ['lt', 'lithuanian'], ['lb', 'luxembourgish'], ['mk', 'macedonian'], ['mg', 'malagasy'], ['ms', 'malay'], ['ml', 'malayalam'], ['mt', 'maltese'], ['mi', 'maori'], ['mr', 'marathi'], ['mn', 'mongolian'], ['my', 'myanmar (burmese)'], ['ne', 'nepali'], ['no', 'norwegian'], ['or', 'odia'], ['ps', 'pashto'], ['fa', 'persian'], ['pl', 'polish'], ['pt', 'portuguese'], ['pa', 'punjabi'], ['ro', 'romanian'], ['ru', 'russian'], ['sm', 'samoan'], ['gd', 'scots gaelic'], ['sr', 'serbian'], ['st', 'sesotho'], ['sn', 'shona'], ['sd', 'sindhi'], ['si', 'sinhala'], ['sk', 'slovak'], ['sl', 'slovenian'], ['so', 'somali'], ['es', 'spanish'], ['su', 'sundanese'], ['sw', 'swahili'], ['sv', 'swedish'], ['tg', 'tajik'], ['ta', 'tamil'], ['te', 'telugu'], ['th', 'thai'], ['tr', 'turkish'], ['uk', 'ukrainian'], ['ur', 'urdu'], ['ug', 'uyghur'], ['uz', 'uzbek'], ['vi', 'vietnamese'], ['cy', 'welsh'], ['xh', 'xhosa'], ['yi', 'yiddish'], ['yo', 'yoruba'], ['zu', 'zulu']]\n"
     ]
    }
   ],
   "source": [
    "d =all_languages\n",
    " \n",
    "new_list = [] \n",
    "for key, val in d.items(): \n",
    "    new_list.append([key, val]) \n",
    " \n",
    "print(new_list)"
   ]
  },
  {
   "cell_type": "code",
   "execution_count": 31,
   "id": "17c776be",
   "metadata": {},
   "outputs": [],
   "source": [
    "convert=[]"
   ]
  },
  {
   "cell_type": "code",
   "execution_count": 32,
   "id": "8170e1a9",
   "metadata": {},
   "outputs": [],
   "source": [
    "bn_out=translator.translate(obj[\"text\"],dest=\"bn\")\n",
    "convert.append((bn_out.text))"
   ]
  },
  {
   "cell_type": "code",
   "execution_count": 33,
   "id": "72df732c",
   "metadata": {},
   "outputs": [],
   "source": [
    "hin_out=translator.translate(obj[\"text\"],dest=\"hi\")\n",
    "convert.append((hin_out.text))"
   ]
  },
  {
   "cell_type": "code",
   "execution_count": 34,
   "id": "810aa90b",
   "metadata": {},
   "outputs": [],
   "source": [
    "ch_out=translator.translate(obj[\"text\"],dest=\"zh-cn\")\n",
    "convert.append((ch_out.text))"
   ]
  },
  {
   "cell_type": "code",
   "execution_count": 35,
   "id": "af13a6b4",
   "metadata": {},
   "outputs": [],
   "source": [
    "ja_out=translator.translate(obj[\"text\"],dest=\"ja\")\n",
    "convert.append((ja_out.text))"
   ]
  },
  {
   "cell_type": "code",
   "execution_count": 36,
   "id": "f87298ad",
   "metadata": {},
   "outputs": [],
   "source": [
    "# def my_translation(language,text):\n",
    "#     if language in googletrans.LANGUAGES.values():\n",
    "#         out=translator.translate(text,dest=\"bn\")\n",
    "#         print(out.text)"
   ]
  },
  {
   "cell_type": "code",
   "execution_count": 37,
   "id": "d8328429",
   "metadata": {},
   "outputs": [],
   "source": [
    "# my_translation(s[0],obj[\"text\"])"
   ]
  },
  {
   "cell_type": "code",
   "execution_count": 38,
   "id": "b101d58b",
   "metadata": {},
   "outputs": [],
   "source": [
    "res = {}\n",
    "for key in s:\n",
    "    for value in convert:\n",
    "        res[key] = value\n",
    "        convert.remove(value)\n",
    "        break"
   ]
  },
  {
   "cell_type": "code",
   "execution_count": 39,
   "id": "02123fd0",
   "metadata": {},
   "outputs": [
    {
     "data": {
      "text/plain": [
       "{'bangla': 'আমার দেশের নাম বাংলাদেশ। বাংলাদেশ খুবই ছোট একটি বিশাল জনসংখ্যার দেশ। এটি দক্ষিণ এশিয়ার একটি মাঝারি-উন্নত দেশ। আমরা একটি খুব ভাল এবং অগ্রগতি অর্থনীতি আছে. এর আয়তন 147,570 বর্গ কিলোমিটার। কিন্তু এর জনসংখ্যা ১৬৪ মিলিয়ন। যা এলাকা থেকে বিশাল।',\n",
       " 'hindi': 'मेरे देश का नाम बांग्लादेश है। बांग्लादेश एक बहुत छोटा देश है विशाल जनसंख्या। यह दक्षिण एशिया में एक मध्यम विकसित देश है। हमारे पास बहुत अच्छी और प्रगतिशील अर्थव्यवस्था है। इसका क्षेत्रफल 147,570 वर्ग किलोमीटर है। लेकिन इसकी आबादी 164 मिलियन है। यह क्षेत्र से बहुत बड़ा है।',\n",
       " 'chinese': '我的国名是孟加拉国。孟加拉国是一个非常小的国家，人口众多。它是南亚的中等发达国家。我们有一个非常好的和不断发展的经济。面积147570平方公里。但它有1.64亿人口。这比面积还大。',\n",
       " 'japanese': '私の国の名前はバングラデシュです。バングラデシュは非常に小さな国であり、人口が非常に多い国です。南アジアの中開発国です。私たちは非常に良好で進歩している経済を持っています。それは147,570平方キロメートルの面積を持っています。しかし、人口は1億6400万人です。それは面積よりも巨大です。'}"
      ]
     },
     "execution_count": 39,
     "metadata": {},
     "output_type": "execute_result"
    }
   ],
   "source": [
    "res"
   ]
  },
  {
   "cell_type": "code",
   "execution_count": 40,
   "id": "113f6210",
   "metadata": {},
   "outputs": [
    {
     "data": {
      "text/plain": [
       "'আমার দেশের নাম বাংলাদেশ। বাংলাদেশ খুবই ছোট একটি বিশাল জনসংখ্যার দেশ। এটি দক্ষিণ এশিয়ার একটি মাঝারি-উন্নত দেশ। আমরা একটি খুব ভাল এবং অগ্রগতি অর্থনীতি আছে. এর আয়তন 147,570 বর্গ কিলোমিটার। কিন্তু এর জনসংখ্যা ১৬৪ মিলিয়ন। যা এলাকা থেকে বিশাল।'"
      ]
     },
     "execution_count": 40,
     "metadata": {},
     "output_type": "execute_result"
    }
   ],
   "source": [
    "res[\"bangla\"]"
   ]
  },
  {
   "cell_type": "code",
   "execution_count": 41,
   "id": "3ed78778",
   "metadata": {},
   "outputs": [
    {
     "data": {
      "text/plain": [
       "'我的国名是孟加拉国。孟加拉国是一个非常小的国家，人口众多。它是南亚的中等发达国家。我们有一个非常好的和不断发展的经济。面积147570平方公里。但它有1.64亿人口。这比面积还大。'"
      ]
     },
     "execution_count": 41,
     "metadata": {},
     "output_type": "execute_result"
    }
   ],
   "source": [
    "res[\"chinese\"]"
   ]
  },
  {
   "cell_type": "code",
   "execution_count": 42,
   "id": "3f47779a",
   "metadata": {},
   "outputs": [
    {
     "data": {
      "text/plain": [
       "'私の国の名前はバングラデシュです。バングラデシュは非常に小さな国であり、人口が非常に多い国です。南アジアの中開発国です。私たちは非常に良好で進歩している経済を持っています。それは147,570平方キロメートルの面積を持っています。しかし、人口は1億6400万人です。それは面積よりも巨大です。'"
      ]
     },
     "execution_count": 42,
     "metadata": {},
     "output_type": "execute_result"
    }
   ],
   "source": [
    "res[\"japanese\"]"
   ]
  },
  {
   "cell_type": "code",
   "execution_count": 43,
   "id": "114ddaba",
   "metadata": {},
   "outputs": [
    {
     "data": {
      "text/plain": [
       "'मेरे देश का नाम बांग्लादेश है। बांग्लादेश एक बहुत छोटा देश है विशाल जनसंख्या। यह दक्षिण एशिया में एक मध्यम विकसित देश है। हमारे पास बहुत अच्छी और प्रगतिशील अर्थव्यवस्था है। इसका क्षेत्रफल 147,570 वर्ग किलोमीटर है। लेकिन इसकी आबादी 164 मिलियन है। यह क्षेत्र से बहुत बड़ा है।'"
      ]
     },
     "execution_count": 43,
     "metadata": {},
     "output_type": "execute_result"
    }
   ],
   "source": [
    "res[\"hindi\"]"
   ]
  },
  {
   "cell_type": "code",
   "execution_count": 44,
   "id": "7e78775e",
   "metadata": {},
   "outputs": [
    {
     "name": "stdout",
     "output_type": "stream",
     "text": [
      "আমার দেশের নাম বাংলাদেশ। বাংলাদেশ খুবই ছোট একটি বিশাল জনসংখ্যার দেশ। এটি দক্ষিণ এশিয়ার একটি মাঝারি-উন্নত দেশ। আমরা একটি খুব ভাল এবং অগ্রগতি অর্থনীতি আছে. এর আয়তন 147,570 বর্গ কিলোমিটার। কিন্তু এর জনসংখ্যা ১৬৪ মিলিয়ন। যা এলাকা থেকে বিশাল।\n",
      "मेरे देश का नाम बांग्लादेश है। बांग्लादेश एक बहुत छोटा देश है विशाल जनसंख्या। यह दक्षिण एशिया में एक मध्यम विकसित देश है। हमारे पास बहुत अच्छी और प्रगतिशील अर्थव्यवस्था है। इसका क्षेत्रफल 147,570 वर्ग किलोमीटर है। लेकिन इसकी आबादी 164 मिलियन है। यह क्षेत्र से बहुत बड़ा है।\n",
      "我的国名是孟加拉国。孟加拉国是一个非常小的国家，人口众多。它是南亚的中等发达国家。我们有一个非常好的和不断发展的经济。面积147570平方公里。但它有1.64亿人口。这比面积还大。\n",
      "私の国の名前はバングラデシュです。バングラデシュは非常に小さな国であり、人口が非常に多い国です。南アジアの中開発国です。私たちは非常に良好で進歩している経済を持っています。それは147,570平方キロメートルの面積を持っています。しかし、人口は1億6400万人です。それは面積よりも巨大です。\n"
     ]
    }
   ],
   "source": [
    "for x in res:\n",
    "  print(res[x])"
   ]
  },
  {
   "cell_type": "code",
   "execution_count": 45,
   "id": "4dc8cc16",
   "metadata": {},
   "outputs": [
    {
     "name": "stdout",
     "output_type": "stream",
     "text": [
      "bangla\n",
      "hindi\n",
      "chinese\n",
      "japanese\n"
     ]
    }
   ],
   "source": [
    "for x in res.keys():\n",
    "  print(x)"
   ]
  },
  {
   "cell_type": "code",
   "execution_count": 46,
   "id": "03fde678",
   "metadata": {},
   "outputs": [],
   "source": [
    "with open('convert.txt', 'w',encoding = 'utf-8') as convert_file:\n",
    "     convert_file.write(json.dumps(data))"
   ]
  },
  {
   "cell_type": "code",
   "execution_count": 47,
   "id": "2405e9bd",
   "metadata": {},
   "outputs": [],
   "source": [
    "pdf=FPDF()"
   ]
  },
  {
   "cell_type": "code",
   "execution_count": 48,
   "id": "4e5b176c",
   "metadata": {},
   "outputs": [],
   "source": [
    "pdf.add_page()\n",
    "pdf.set_font(\"Arial\",\"B\",16)"
   ]
  },
  {
   "cell_type": "code",
   "execution_count": 49,
   "id": "07082df5",
   "metadata": {},
   "outputs": [],
   "source": [
    "pdf.write(\"convert.txt\")"
   ]
  },
  {
   "cell_type": "code",
   "execution_count": 55,
   "id": "1a9ceca5",
   "metadata": {},
   "outputs": [
    {
     "data": {
      "text/plain": [
       "b'{\"bangla\": \"\\xe0\\xa6\\x86\\xe0\\xa6\\xae\\xe0\\xa6\\xbe\\xe0\\xa6\\xb0 \\xe0\\xa6\\xa6\\xe0\\xa7\\x87\\xe0\\xa6\\xb6\\xe0\\xa7\\x87\\xe0\\xa6\\xb0 \\xe0\\xa6\\xa8\\xe0\\xa6\\xbe\\xe0\\xa6\\xae \\xe0\\xa6\\xac\\xe0\\xa6\\xbe\\xe0\\xa6\\x82\\xe0\\xa6\\xb2\\xe0\\xa6\\xbe\\xe0\\xa6\\xa6\\xe0\\xa7\\x87\\xe0\\xa6\\xb6\\xe0\\xa5\\xa4 \\xe0\\xa6\\xac\\xe0\\xa6\\xbe\\xe0\\xa6\\x82\\xe0\\xa6\\xb2\\xe0\\xa6\\xbe\\xe0\\xa6\\xa6\\xe0\\xa7\\x87\\xe0\\xa6\\xb6 \\xe0\\xa6\\x96\\xe0\\xa7\\x81\\xe0\\xa6\\xac\\xe0\\xa6\\x87 \\xe0\\xa6\\x9b\\xe0\\xa7\\x8b\\xe0\\xa6\\x9f \\xe0\\xa6\\x8f\\xe0\\xa6\\x95\\xe0\\xa6\\x9f\\xe0\\xa6\\xbf \\xe0\\xa6\\xac\\xe0\\xa6\\xbf\\xe0\\xa6\\xb6\\xe0\\xa6\\xbe\\xe0\\xa6\\xb2 \\xe0\\xa6\\x9c\\xe0\\xa6\\xa8\\xe0\\xa6\\xb8\\xe0\\xa6\\x82\\xe0\\xa6\\x96\\xe0\\xa7\\x8d\\xe0\\xa6\\xaf\\xe0\\xa6\\xbe\\xe0\\xa6\\xb0 \\xe0\\xa6\\xa6\\xe0\\xa7\\x87\\xe0\\xa6\\xb6\\xe0\\xa5\\xa4 \\xe0\\xa6\\x8f\\xe0\\xa6\\x9f\\xe0\\xa6\\xbf \\xe0\\xa6\\xa6\\xe0\\xa6\\x95\\xe0\\xa7\\x8d\\xe0\\xa6\\xb7\\xe0\\xa6\\xbf\\xe0\\xa6\\xa3 \\xe0\\xa6\\x8f\\xe0\\xa6\\xb6\\xe0\\xa6\\xbf\\xe0\\xa6\\xaf\\xe0\\xa6\\xbc\\xe0\\xa6\\xbe\\xe0\\xa6\\xb0 \\xe0\\xa6\\x8f\\xe0\\xa6\\x95\\xe0\\xa6\\x9f\\xe0\\xa6\\xbf \\xe0\\xa6\\xae\\xe0\\xa6\\xbe\\xe0\\xa6\\x9d\\xe0\\xa6\\xbe\\xe0\\xa6\\xb0\\xe0\\xa6\\xbf-\\xe0\\xa6\\x89\\xe0\\xa6\\xa8\\xe0\\xa7\\x8d\\xe0\\xa6\\xa8\\xe0\\xa6\\xa4 \\xe0\\xa6\\xa6\\xe0\\xa7\\x87\\xe0\\xa6\\xb6\\xe0\\xa5\\xa4 \\xe0\\xa6\\x86\\xe0\\xa6\\xae\\xe0\\xa6\\xb0\\xe0\\xa6\\xbe \\xe0\\xa6\\x8f\\xe0\\xa6\\x95\\xe0\\xa6\\x9f\\xe0\\xa6\\xbf \\xe0\\xa6\\x96\\xe0\\xa7\\x81\\xe0\\xa6\\xac \\xe0\\xa6\\xad\\xe0\\xa6\\xbe\\xe0\\xa6\\xb2 \\xe0\\xa6\\x8f\\xe0\\xa6\\xac\\xe0\\xa6\\x82 \\xe0\\xa6\\x85\\xe0\\xa6\\x97\\xe0\\xa7\\x8d\\xe0\\xa6\\xb0\\xe0\\xa6\\x97\\xe0\\xa6\\xa4\\xe0\\xa6\\xbf \\xe0\\xa6\\x85\\xe0\\xa6\\xb0\\xe0\\xa7\\x8d\\xe0\\xa6\\xa5\\xe0\\xa6\\xa8\\xe0\\xa7\\x80\\xe0\\xa6\\xa4\\xe0\\xa6\\xbf \\xe0\\xa6\\x86\\xe0\\xa6\\x9b\\xe0\\xa7\\x87. \\xe0\\xa6\\x8f\\xe0\\xa6\\xb0 \\xe0\\xa6\\x86\\xe0\\xa6\\xaf\\xe0\\xa6\\xbc\\xe0\\xa6\\xa4\\xe0\\xa6\\xa8 147,570 \\xe0\\xa6\\xac\\xe0\\xa6\\xb0\\xe0\\xa7\\x8d\\xe0\\xa6\\x97 \\xe0\\xa6\\x95\\xe0\\xa6\\xbf\\xe0\\xa6\\xb2\\xe0\\xa7\\x8b\\xe0\\xa6\\xae\\xe0\\xa6\\xbf\\xe0\\xa6\\x9f\\xe0\\xa6\\xbe\\xe0\\xa6\\xb0\\xe0\\xa5\\xa4 \\xe0\\xa6\\x95\\xe0\\xa6\\xbf\\xe0\\xa6\\xa8\\xe0\\xa7\\x8d\\xe0\\xa6\\xa4\\xe0\\xa7\\x81 \\xe0\\xa6\\x8f\\xe0\\xa6\\xb0 \\xe0\\xa6\\x9c\\xe0\\xa6\\xa8\\xe0\\xa6\\xb8\\xe0\\xa6\\x82\\xe0\\xa6\\x96\\xe0\\xa7\\x8d\\xe0\\xa6\\xaf\\xe0\\xa6\\xbe \\xe0\\xa7\\xa7\\xe0\\xa7\\xac\\xe0\\xa7\\xaa \\xe0\\xa6\\xae\\xe0\\xa6\\xbf\\xe0\\xa6\\xb2\\xe0\\xa6\\xbf\\xe0\\xa6\\xaf\\xe0\\xa6\\xbc\\xe0\\xa6\\xa8\\xe0\\xa5\\xa4 \\xe0\\xa6\\xaf\\xe0\\xa6\\xbe \\xe0\\xa6\\x8f\\xe0\\xa6\\xb2\\xe0\\xa6\\xbe\\xe0\\xa6\\x95\\xe0\\xa6\\xbe \\xe0\\xa6\\xa5\\xe0\\xa7\\x87\\xe0\\xa6\\x95\\xe0\\xa7\\x87 \\xe0\\xa6\\xac\\xe0\\xa6\\xbf\\xe0\\xa6\\xb6\\xe0\\xa6\\xbe\\xe0\\xa6\\xb2\\xe0\\xa5\\xa4\", \"hindi\": \"\\xe0\\xa4\\xae\\xe0\\xa5\\x87\\xe0\\xa4\\xb0\\xe0\\xa5\\x87 \\xe0\\xa4\\xa6\\xe0\\xa5\\x87\\xe0\\xa4\\xb6 \\xe0\\xa4\\x95\\xe0\\xa4\\xbe \\xe0\\xa4\\xa8\\xe0\\xa4\\xbe\\xe0\\xa4\\xae \\xe0\\xa4\\xac\\xe0\\xa4\\xbe\\xe0\\xa4\\x82\\xe0\\xa4\\x97\\xe0\\xa5\\x8d\\xe0\\xa4\\xb2\\xe0\\xa4\\xbe\\xe0\\xa4\\xa6\\xe0\\xa5\\x87\\xe0\\xa4\\xb6 \\xe0\\xa4\\xb9\\xe0\\xa5\\x88\\xe0\\xa5\\xa4 \\xe0\\xa4\\xac\\xe0\\xa4\\xbe\\xe0\\xa4\\x82\\xe0\\xa4\\x97\\xe0\\xa5\\x8d\\xe0\\xa4\\xb2\\xe0\\xa4\\xbe\\xe0\\xa4\\xa6\\xe0\\xa5\\x87\\xe0\\xa4\\xb6 \\xe0\\xa4\\x8f\\xe0\\xa4\\x95 \\xe0\\xa4\\xac\\xe0\\xa4\\xb9\\xe0\\xa5\\x81\\xe0\\xa4\\xa4 \\xe0\\xa4\\x9b\\xe0\\xa5\\x8b\\xe0\\xa4\\x9f\\xe0\\xa4\\xbe \\xe0\\xa4\\xa6\\xe0\\xa5\\x87\\xe0\\xa4\\xb6 \\xe0\\xa4\\xb9\\xe0\\xa5\\x88 \\xe0\\xa4\\xb5\\xe0\\xa4\\xbf\\xe0\\xa4\\xb6\\xe0\\xa4\\xbe\\xe0\\xa4\\xb2 \\xe0\\xa4\\x9c\\xe0\\xa4\\xa8\\xe0\\xa4\\xb8\\xe0\\xa4\\x82\\xe0\\xa4\\x96\\xe0\\xa5\\x8d\\xe0\\xa4\\xaf\\xe0\\xa4\\xbe\\xe0\\xa5\\xa4 \\xe0\\xa4\\xaf\\xe0\\xa4\\xb9 \\xe0\\xa4\\xa6\\xe0\\xa4\\x95\\xe0\\xa5\\x8d\\xe0\\xa4\\xb7\\xe0\\xa4\\xbf\\xe0\\xa4\\xa3 \\xe0\\xa4\\x8f\\xe0\\xa4\\xb6\\xe0\\xa4\\xbf\\xe0\\xa4\\xaf\\xe0\\xa4\\xbe \\xe0\\xa4\\xae\\xe0\\xa5\\x87\\xe0\\xa4\\x82 \\xe0\\xa4\\x8f\\xe0\\xa4\\x95 \\xe0\\xa4\\xae\\xe0\\xa4\\xa7\\xe0\\xa5\\x8d\\xe0\\xa4\\xaf\\xe0\\xa4\\xae \\xe0\\xa4\\xb5\\xe0\\xa4\\xbf\\xe0\\xa4\\x95\\xe0\\xa4\\xb8\\xe0\\xa4\\xbf\\xe0\\xa4\\xa4 \\xe0\\xa4\\xa6\\xe0\\xa5\\x87\\xe0\\xa4\\xb6 \\xe0\\xa4\\xb9\\xe0\\xa5\\x88\\xe0\\xa5\\xa4 \\xe0\\xa4\\xb9\\xe0\\xa4\\xae\\xe0\\xa4\\xbe\\xe0\\xa4\\xb0\\xe0\\xa5\\x87 \\xe0\\xa4\\xaa\\xe0\\xa4\\xbe\\xe0\\xa4\\xb8 \\xe0\\xa4\\xac\\xe0\\xa4\\xb9\\xe0\\xa5\\x81\\xe0\\xa4\\xa4 \\xe0\\xa4\\x85\\xe0\\xa4\\x9a\\xe0\\xa5\\x8d\\xe0\\xa4\\x9b\\xe0\\xa5\\x80 \\xe0\\xa4\\x94\\xe0\\xa4\\xb0 \\xe0\\xa4\\xaa\\xe0\\xa5\\x8d\\xe0\\xa4\\xb0\\xe0\\xa4\\x97\\xe0\\xa4\\xa4\\xe0\\xa4\\xbf\\xe0\\xa4\\xb6\\xe0\\xa5\\x80\\xe0\\xa4\\xb2 \\xe0\\xa4\\x85\\xe0\\xa4\\xb0\\xe0\\xa5\\x8d\\xe0\\xa4\\xa5\\xe0\\xa4\\xb5\\xe0\\xa5\\x8d\\xe0\\xa4\\xaf\\xe0\\xa4\\xb5\\xe0\\xa4\\xb8\\xe0\\xa5\\x8d\\xe0\\xa4\\xa5\\xe0\\xa4\\xbe \\xe0\\xa4\\xb9\\xe0\\xa5\\x88\\xe0\\xa5\\xa4 \\xe0\\xa4\\x87\\xe0\\xa4\\xb8\\xe0\\xa4\\x95\\xe0\\xa4\\xbe \\xe0\\xa4\\x95\\xe0\\xa5\\x8d\\xe0\\xa4\\xb7\\xe0\\xa5\\x87\\xe0\\xa4\\xa4\\xe0\\xa5\\x8d\\xe0\\xa4\\xb0\\xe0\\xa4\\xab\\xe0\\xa4\\xb2 147,570 \\xe0\\xa4\\xb5\\xe0\\xa4\\xb0\\xe0\\xa5\\x8d\\xe0\\xa4\\x97 \\xe0\\xa4\\x95\\xe0\\xa4\\xbf\\xe0\\xa4\\xb2\\xe0\\xa5\\x8b\\xe0\\xa4\\xae\\xe0\\xa5\\x80\\xe0\\xa4\\x9f\\xe0\\xa4\\xb0 \\xe0\\xa4\\xb9\\xe0\\xa5\\x88\\xe0\\xa5\\xa4 \\xe0\\xa4\\xb2\\xe0\\xa5\\x87\\xe0\\xa4\\x95\\xe0\\xa4\\xbf\\xe0\\xa4\\xa8 \\xe0\\xa4\\x87\\xe0\\xa4\\xb8\\xe0\\xa4\\x95\\xe0\\xa5\\x80 \\xe0\\xa4\\x86\\xe0\\xa4\\xac\\xe0\\xa4\\xbe\\xe0\\xa4\\xa6\\xe0\\xa5\\x80 164 \\xe0\\xa4\\xae\\xe0\\xa4\\xbf\\xe0\\xa4\\xb2\\xe0\\xa4\\xbf\\xe0\\xa4\\xaf\\xe0\\xa4\\xa8 \\xe0\\xa4\\xb9\\xe0\\xa5\\x88\\xe0\\xa5\\xa4 \\xe0\\xa4\\xaf\\xe0\\xa4\\xb9 \\xe0\\xa4\\x95\\xe0\\xa5\\x8d\\xe0\\xa4\\xb7\\xe0\\xa5\\x87\\xe0\\xa4\\xa4\\xe0\\xa5\\x8d\\xe0\\xa4\\xb0 \\xe0\\xa4\\xb8\\xe0\\xa5\\x87 \\xe0\\xa4\\xac\\xe0\\xa4\\xb9\\xe0\\xa5\\x81\\xe0\\xa4\\xa4 \\xe0\\xa4\\xac\\xe0\\xa4\\xa1\\xe0\\xa4\\xbc\\xe0\\xa4\\xbe \\xe0\\xa4\\xb9\\xe0\\xa5\\x88\\xe0\\xa5\\xa4\", \"chinese\": \"\\xe6\\x88\\x91\\xe7\\x9a\\x84\\xe5\\x9b\\xbd\\xe5\\x90\\x8d\\xe6\\x98\\xaf\\xe5\\xad\\x9f\\xe5\\x8a\\xa0\\xe6\\x8b\\x89\\xe5\\x9b\\xbd\\xe3\\x80\\x82\\xe5\\xad\\x9f\\xe5\\x8a\\xa0\\xe6\\x8b\\x89\\xe5\\x9b\\xbd\\xe6\\x98\\xaf\\xe4\\xb8\\x80\\xe4\\xb8\\xaa\\xe9\\x9d\\x9e\\xe5\\xb8\\xb8\\xe5\\xb0\\x8f\\xe7\\x9a\\x84\\xe5\\x9b\\xbd\\xe5\\xae\\xb6\\xef\\xbc\\x8c\\xe4\\xba\\xba\\xe5\\x8f\\xa3\\xe4\\xbc\\x97\\xe5\\xa4\\x9a\\xe3\\x80\\x82\\xe5\\xae\\x83\\xe6\\x98\\xaf\\xe5\\x8d\\x97\\xe4\\xba\\x9a\\xe7\\x9a\\x84\\xe4\\xb8\\xad\\xe7\\xad\\x89\\xe5\\x8f\\x91\\xe8\\xbe\\xbe\\xe5\\x9b\\xbd\\xe5\\xae\\xb6\\xe3\\x80\\x82\\xe6\\x88\\x91\\xe4\\xbb\\xac\\xe6\\x9c\\x89\\xe4\\xb8\\x80\\xe4\\xb8\\xaa\\xe9\\x9d\\x9e\\xe5\\xb8\\xb8\\xe5\\xa5\\xbd\\xe7\\x9a\\x84\\xe5\\x92\\x8c\\xe4\\xb8\\x8d\\xe6\\x96\\xad\\xe5\\x8f\\x91\\xe5\\xb1\\x95\\xe7\\x9a\\x84\\xe7\\xbb\\x8f\\xe6\\xb5\\x8e\\xe3\\x80\\x82\\xe9\\x9d\\xa2\\xe7\\xa7\\xaf147570\\xe5\\xb9\\xb3\\xe6\\x96\\xb9\\xe5\\x85\\xac\\xe9\\x87\\x8c\\xe3\\x80\\x82\\xe4\\xbd\\x86\\xe5\\xae\\x83\\xe6\\x9c\\x891.64\\xe4\\xba\\xbf\\xe4\\xba\\xba\\xe5\\x8f\\xa3\\xe3\\x80\\x82\\xe8\\xbf\\x99\\xe6\\xaf\\x94\\xe9\\x9d\\xa2\\xe7\\xa7\\xaf\\xe8\\xbf\\x98\\xe5\\xa4\\xa7\\xe3\\x80\\x82\", \"japanese\": \"\\xe7\\xa7\\x81\\xe3\\x81\\xae\\xe5\\x9b\\xbd\\xe3\\x81\\xae\\xe5\\x90\\x8d\\xe5\\x89\\x8d\\xe3\\x81\\xaf\\xe3\\x83\\x90\\xe3\\x83\\xb3\\xe3\\x82\\xb0\\xe3\\x83\\xa9\\xe3\\x83\\x87\\xe3\\x82\\xb7\\xe3\\x83\\xa5\\xe3\\x81\\xa7\\xe3\\x81\\x99\\xe3\\x80\\x82\\xe3\\x83\\x90\\xe3\\x83\\xb3\\xe3\\x82\\xb0\\xe3\\x83\\xa9\\xe3\\x83\\x87\\xe3\\x82\\xb7\\xe3\\x83\\xa5\\xe3\\x81\\xaf\\xe9\\x9d\\x9e\\xe5\\xb8\\xb8\\xe3\\x81\\xab\\xe5\\xb0\\x8f\\xe3\\x81\\x95\\xe3\\x81\\xaa\\xe5\\x9b\\xbd\\xe3\\x81\\xa7\\xe3\\x81\\x82\\xe3\\x82\\x8a\\xe3\\x80\\x81\\xe4\\xba\\xba\\xe5\\x8f\\xa3\\xe3\\x81\\x8c\\xe9\\x9d\\x9e\\xe5\\xb8\\xb8\\xe3\\x81\\xab\\xe5\\xa4\\x9a\\xe3\\x81\\x84\\xe5\\x9b\\xbd\\xe3\\x81\\xa7\\xe3\\x81\\x99\\xe3\\x80\\x82\\xe5\\x8d\\x97\\xe3\\x82\\xa2\\xe3\\x82\\xb8\\xe3\\x82\\xa2\\xe3\\x81\\xae\\xe4\\xb8\\xad\\xe9\\x96\\x8b\\xe7\\x99\\xba\\xe5\\x9b\\xbd\\xe3\\x81\\xa7\\xe3\\x81\\x99\\xe3\\x80\\x82\\xe7\\xa7\\x81\\xe3\\x81\\x9f\\xe3\\x81\\xa1\\xe3\\x81\\xaf\\xe9\\x9d\\x9e\\xe5\\xb8\\xb8\\xe3\\x81\\xab\\xe8\\x89\\xaf\\xe5\\xa5\\xbd\\xe3\\x81\\xa7\\xe9\\x80\\xb2\\xe6\\xad\\xa9\\xe3\\x81\\x97\\xe3\\x81\\xa6\\xe3\\x81\\x84\\xe3\\x82\\x8b\\xe7\\xb5\\x8c\\xe6\\xb8\\x88\\xe3\\x82\\x92\\xe6\\x8c\\x81\\xe3\\x81\\xa3\\xe3\\x81\\xa6\\xe3\\x81\\x84\\xe3\\x81\\xbe\\xe3\\x81\\x99\\xe3\\x80\\x82\\xe3\\x81\\x9d\\xe3\\x82\\x8c\\xe3\\x81\\xaf147,570\\xe5\\xb9\\xb3\\xe6\\x96\\xb9\\xe3\\x82\\xad\\xe3\\x83\\xad\\xe3\\x83\\xa1\\xe3\\x83\\xbc\\xe3\\x83\\x88\\xe3\\x83\\xab\\xe3\\x81\\xae\\xe9\\x9d\\xa2\\xe7\\xa9\\x8d\\xe3\\x82\\x92\\xe6\\x8c\\x81\\xe3\\x81\\xa3\\xe3\\x81\\xa6\\xe3\\x81\\x84\\xe3\\x81\\xbe\\xe3\\x81\\x99\\xe3\\x80\\x82\\xe3\\x81\\x97\\xe3\\x81\\x8b\\xe3\\x81\\x97\\xe3\\x80\\x81\\xe4\\xba\\xba\\xe5\\x8f\\xa3\\xe3\\x81\\xaf1\\xe5\\x84\\x846400\\xe4\\xb8\\x87\\xe4\\xba\\xba\\xe3\\x81\\xa7\\xe3\\x81\\x99\\xe3\\x80\\x82\\xe3\\x81\\x9d\\xe3\\x82\\x8c\\xe3\\x81\\xaf\\xe9\\x9d\\xa2\\xe7\\xa9\\x8d\\xe3\\x82\\x88\\xe3\\x82\\x8a\\xe3\\x82\\x82\\xe5\\xb7\\xa8\\xe5\\xa4\\xa7\\xe3\\x81\\xa7\\xe3\\x81\\x99\\xe3\\x80\\x82\"}'"
      ]
     },
     "execution_count": 55,
     "metadata": {},
     "output_type": "execute_result"
    }
   ],
   "source": [
    "json_string = json.dumps(res, ensure_ascii=False).encode('utf8')\n",
    "json_string"
   ]
  },
  {
   "cell_type": "code",
   "execution_count": 58,
   "id": "7991c081",
   "metadata": {},
   "outputs": [
    {
     "name": "stdout",
     "output_type": "stream",
     "text": [
      "{\"bangla\": \"আমার দেশের নাম বাংলাদেশ। বাংলাদেশ খুবই ছোট একটি বিশাল জনসংখ্যার দেশ। এটি দক্ষিণ এশিয়ার একটি মাঝারি-উন্নত দেশ। আমরা একটি খুব ভাল এবং অগ্রগতি অর্থনীতি আছে. এর আয়তন 147,570 বর্গ কিলোমিটার। কিন্তু এর জনসংখ্যা ১৬৪ মিলিয়ন। যা এলাকা থেকে বিশাল।\", \"hindi\": \"मेरे देश का नाम बांग्लादेश है। बांग्लादेश एक बहुत छोटा देश है विशाल जनसंख्या। यह दक्षिण एशिया में एक मध्यम विकसित देश है। हमारे पास बहुत अच्छी और प्रगतिशील अर्थव्यवस्था है। इसका क्षेत्रफल 147,570 वर्ग किलोमीटर है। लेकिन इसकी आबादी 164 मिलियन है। यह क्षेत्र से बहुत बड़ा है।\", \"chinese\": \"我的国名是孟加拉国。孟加拉国是一个非常小的国家，人口众多。它是南亚的中等发达国家。我们有一个非常好的和不断发展的经济。面积147570平方公里。但它有1.64亿人口。这比面积还大。\", \"japanese\": \"私の国の名前はバングラデシュです。バングラデシュは非常に小さな国であり、人口が非常に多い国です。南アジアの中開発国です。私たちは非常に良好で進歩している経済を持っています。それは147,570平方キロメートルの面積を持っています。しかし、人口は1億6400万人です。それは面積よりも巨大です。\"}\n"
     ]
    },
    {
     "data": {
      "text/plain": [
       "'convert'"
      ]
     },
     "execution_count": 58,
     "metadata": {},
     "output_type": "execute_result"
    }
   ],
   "source": [
    "print(json_string.decode())\n",
    "\"convert\""
   ]
  },
  {
   "cell_type": "code",
   "execution_count": 60,
   "id": "63b287c4",
   "metadata": {},
   "outputs": [],
   "source": [
    "with open('filename.json', 'w', encoding='utf8') as json_file:\n",
    "    json.dump(res, json_file, ensure_ascii=False)"
   ]
  },
  {
   "cell_type": "code",
   "execution_count": null,
   "id": "32b489b4",
   "metadata": {},
   "outputs": [],
   "source": []
  },
  {
   "cell_type": "code",
   "execution_count": null,
   "id": "66e8750a",
   "metadata": {},
   "outputs": [],
   "source": []
  }
 ],
 "metadata": {
  "kernelspec": {
   "display_name": "Python 3 (ipykernel)",
   "language": "python",
   "name": "python3"
  },
  "language_info": {
   "codemirror_mode": {
    "name": "ipython",
    "version": 3
   },
   "file_extension": ".py",
   "mimetype": "text/x-python",
   "name": "python",
   "nbconvert_exporter": "python",
   "pygments_lexer": "ipython3",
   "version": "3.9.12"
  }
 },
 "nbformat": 4,
 "nbformat_minor": 5
}
